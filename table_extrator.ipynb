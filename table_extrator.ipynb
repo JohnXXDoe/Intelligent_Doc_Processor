{
 "cells": [
  {
   "cell_type": "code",
   "execution_count": 1,
   "metadata": {},
   "outputs": [],
   "source": [
    "from io import StringIO\n",
    "from pdfminer import pdfpage\n",
    "from pdfminer.pdfdocument import PDFDocument\n",
    "from pdfminer.pdfparser import PDFParser\n",
    "from pdfminer.pdfpage import PDFPage\n",
    "from pdfminer.converter import TextConverter\n",
    "from pdfminer.layout import LAParams\n",
    "from pdfminer.pdfinterp import PDFResourceManager, PDFPageInterpreter\n",
    "import pandas as pd\n",
    "import numpy as np\n",
    "import matplotlib.pyplot as plt\n",
    "import matplotlib.image as mpimg\n",
    "from PIL import Image, ImageFont, ImageDraw\n",
    "import camelot\n",
    "\n",
    "filename='DUGJY'\n",
    "PDF = f'C:/Users/33669/PycharmProjects/OCR/trainer/ner_data/raw/{filename}.pdf'\n",
    "pd.set_option('display.max_colwidth', None)"
   ]
  },
  {
   "cell_type": "code",
   "execution_count": 2,
   "metadata": {},
   "outputs": [],
   "source": [
    "\n",
    "def make_df_image(table,\n",
    "                  max_cols=-1,\n",
    "                  max_rows=-1):\n",
    "    \"\"\"Return dataframe as image.\"\"\"\n",
    "    with tempfile.NamedTemporaryFile(suffix='.jpg',\n",
    "                                     delete=False) as tmp:\n",
    "        dfi.export(table, tmp.name, max_cols=max_cols, max_rows=max_rows)\n",
    "        image = mpimg.imread(tmp.name)\n",
    "        return image\n",
    "\n",
    "\n",
    "def make_lines_image(lines,\n",
    "                     mrgn=15,\n",
    "                     background=(255, 255, 255),\n",
    "                     text_color=(0, 0, 0),\n",
    "                     font_size=10):\n",
    "    \"\"\"Return raw text in lines as image.\"\"\"\n",
    "    lines = pd.Series(lines)\n",
    "    longest_line = lines[lines.str.len().idxmax()]\n",
    "    image = Image.new(\"RGBA\", (1, 1))\n",
    "    draw = ImageDraw.Draw(image)\n",
    "    monospace = ImageFont.truetype(r'С:\\Windows\\Fonts\\cour.ttf', font_size)\n",
    "    line_width, line_height = draw.textsize(longest_line, monospace)\n",
    "    img_width, img_height = (line_width + mrgn * 2,\n",
    "                             len(lines) * line_height + mrgn * 2)\n",
    "    image = Image.new(\"RGBA\", (img_width, img_height), background)\n",
    "    draw = ImageDraw.Draw(image)\n",
    "    x, y0 = (mrgn, mrgn)\n",
    "    for n, line in enumerate(lines):\n",
    "        y = y0 + n * line_height\n",
    "        draw.text((x, y), line, text_color, monospace)\n",
    "    return image\n"
   ]
  },
  {
   "cell_type": "code",
   "execution_count": 50,
   "metadata": {},
   "outputs": [],
   "source": [
    "def extract(extract_no):\n",
    "    pdfminer_string = StringIO()\n",
    "    pageno = 0\n",
    "    with open(PDF, \"rb\") as in_file:\n",
    "        parser = PDFParser(in_file)\n",
    "        doc = PDFDocument(parser)\n",
    "        rsrcmgr = PDFResourceManager()\n",
    "        device = TextConverter(rsrcmgr,\n",
    "                            pdfminer_string,\n",
    "                            laparams=LAParams())\n",
    "        interpreter = PDFPageInterpreter(rsrcmgr, device)\n",
    "        for page in PDFPage.create_pages(doc):\n",
    "            if pageno == extract_no:\n",
    "                interpreter.process_page(page)\n",
    "            pageno = pageno+1\n",
    "    pdfminer_lines = pdfminer_string.getvalue().splitlines()\n",
    "    pdfminer_lines = [ln for ln in pdfminer_lines if ln]\n",
    "    return pdfminer_lines\n",
    "\n",
    "def camel(extract_no):\n",
    "    laparams = LAParams(char_margin=30, line_margin=2, boxes_flow=1)\n",
    "    tables, text = camelot.read_pdf(PDF, strip_text='\\n', pages=str(extract_no), layout_kwargs={'char_margin':0.1, 'line_margin':2, 'boxes_flow':1})\n",
    "    tables.export(r'C:\\Users\\33669\\PycharmProjects\\OCR\\outputs\\table.html', f='html', compress=True) # json, excel, html, markdown, sqlite\n",
    "    tablesfin = []\n",
    "    for table in text:\n",
    "        para = []\n",
    "        for row_index,row in enumerate(table):\n",
    "            for col_index,col in enumerate(row):\n",
    "                if row_index != 0:\n",
    "                    line = f'{table[0][col_index]} {col}'\n",
    "                    #print(line)\n",
    "                    para.append(line)\n",
    "        tabel = ' '.join(para)\n",
    "        tablesfin.append(tabel)\n",
    "    for table in tablesfin:\n",
    "        print(table)\n",
    "                       "
   ]
  },
  {
   "cell_type": "code",
   "execution_count": 51,
   "metadata": {},
   "outputs": [],
   "source": [
    "def extracted(pdfminer_lines):\n",
    "    # pd.Series(pdfminer_lines)\n",
    "    fig, ax = plt.subplots(figsize=(50,25))\n",
    "    title = 'pdfminer.six 20201018'\n",
    "    for i,img in enumerate(map(make_lines_image,\n",
    "                                [pdfminer_lines])):\n",
    "        ax.axis(\"off\")\n",
    "        ax.set_adjustable(\"box\")\n",
    "        ax.title.set_text(title)\n",
    "        ax.imshow(img)\n",
    "    return fig.tight_layout()"
   ]
  },
  {
   "cell_type": "code",
   "execution_count": 53,
   "metadata": {},
   "outputs": [
    {
     "name": "stdout",
     "output_type": "stream",
     "text": [
      "Nominal Sectional Area (sq.mm) (1) Diameter of compacted conductor (mm) (2) Max.DC resistance at 20 Deg. (0hm/km) (3) Insulation thickness (mm) (4) Approx. mass (kg/km) (5) Minimum No. of Strands (6) Nominal Sectional Area (sq.mm) 16 Diameter of compacted conductor (mm) 4.4 Max.DC resistance at 20 Deg. (0hm/km) 1.91 Insulation thickness (mm) 1.0 Approx. mass (kg/km) 42 Minimum No. of Strands 6 Nominal Sectional Area (sq.mm) 35 Diameter of compacted conductor (mm) 6.8 Max.DC resistance at 20 Deg. (0hm/km) 0.868 Insulation thickness (mm) 1.0 Approx. mass (kg/km) 95 Minimum No. of Strands 6 Nominal Sectional Area (sq.mm) 50 Diameter of compacted conductor (mm) 7.9 Max.DC resistance at 20 Deg. (0hm/km) 0.641 Insulation thickness (mm) 1.2 Approx. mass (kg/km) 127 Minimum No. of Strands 6 Nominal Sectional Area (sq.mm) 70 Diameter of compacted conductor (mm) 9.6 Max.DC resistance at 20 Deg. (0hm/km) 0.443 Insulation thickness (mm) 1.4 Approx. mass (kg/km) 184 Minimum No. of Strands 12 Nominal Sectional Area (sq.mm) 95 Diameter of compacted conductor (mm) 11.3 Max.DC resistance at 20 Deg. (0hm/km) 0.320 Insulation thickness (mm) 1.4 Approx. mass (kg/km) 254 Minimum No. of Strands 15 Nominal Sectional Area (sq.mm) 120 Diameter of compacted conductor (mm) 12.7 Max.DC resistance at 20 Deg. (0hm/km) 0.253 Insulation thickness (mm) 1.6 Approx. mass (kg/km) 320 Minimum No. of Strands 15 Nominal Sectional Area (sq.mm) 150 Diameter of compacted conductor (mm) 14.2 Max.DC resistance at 20 Deg. (0hm/km) 0.196 Insulation thickness (mm) 2.1 Approx. mass (kg/km) 382 Minimum No. of Strands 17\n",
      "Nominal Sectional Area (sq.mm.) (1) Diameter of compacted conductor (mm) (2) Approx Mass (kg/km) (3) Max.DC resistance at 20 Deg. (0hm/km) (4) Minimum Tensile Strength. (KN) (5) Nominal Sectional Area (sq.mm.) 25 Diameter of compacted conductor (mm) 5.8 Approx Mass (kg/km) 65 Max.DC resistance at 20 Deg. (0hm/km) 1.380 Minimum Tensile Strength. (KN) 7.4 Nominal Sectional Area (sq.mm.) 35 Diameter of compacted conductor (mm) 6.8 Approx Mass (kg/km) 95 Max.DC resistance at 20 Deg. (0hm/km) 0.968 Minimum Tensile Strength. (KN) 10.3 Nominal Sectional Area (sq.mm.) 50 Diameter of compacted conductor (mm) 8.1 Approx Mass (kg/km) 130 Max.DC resistance at 20 Deg. (0hm/km) 0.690 Minimum Tensile Strength. (KN) 14.7 Nominal Sectional Area (sq.mm.) 70 Diameter of compacted conductor (mm) 9.6 Approx Mass (kg/km) 185 Max.DC resistance at 20 Deg. (0hm/km) 0.493 Minimum Tensile Strength. (KN) 20.6 Nominal Sectional Area (sq.mm.) 95 Diameter of compacted conductor (mm) 11.2 Approx Mass (kg/km) 210 Max.DC resistance at 20 Deg. (0hm/km) 0.398 Minimum Tensile Strength. (KN) 26.3 Nominal Sectional Area (sq.mm.) 120 Diameter of compacted conductor (mm) 13.7 Approx Mass (kg/km) 287 Max.DC resistance at 20 Deg. (0hm/km) 0.312 Minimum Tensile Strength. (KN) 33.2\n"
     ]
    }
   ],
   "source": [
    "pagen = 2\n",
    "#lines = extract(pagen)\n",
    "camel(pagen)\n",
    "#extracted(lines)"
   ]
  },
  {
   "cell_type": "code",
   "execution_count": null,
   "metadata": {},
   "outputs": [],
   "source": []
  }
 ],
 "metadata": {
  "interpreter": {
   "hash": "8514d1ffa18807466e1e1005c0ca77f2f21c1b6d7794e0ad757c55b4086bfbc8"
  },
  "kernelspec": {
   "display_name": "Python 3.9.1 64-bit ('classification': venv)",
   "language": "python",
   "name": "python3"
  },
  "language_info": {
   "codemirror_mode": {
    "name": "ipython",
    "version": 3
   },
   "file_extension": ".py",
   "mimetype": "text/x-python",
   "name": "python",
   "nbconvert_exporter": "python",
   "pygments_lexer": "ipython3",
   "version": "3.9.1"
  },
  "orig_nbformat": 4
 },
 "nbformat": 4,
 "nbformat_minor": 2
}
