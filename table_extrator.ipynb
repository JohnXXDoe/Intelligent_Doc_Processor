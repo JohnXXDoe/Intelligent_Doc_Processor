{
 "cells": [
  {
   "cell_type": "code",
   "execution_count": 1,
   "metadata": {},
   "outputs": [],
   "source": [
    "from io import StringIO\n",
    "from pdfminer import pdfpage\n",
    "from pdfminer.pdfdocument import PDFDocument\n",
    "from pdfminer.pdfparser import PDFParser\n",
    "from pdfminer.pdfpage import PDFPage\n",
    "from pdfminer.converter import TextConverter\n",
    "from pdfminer.layout import LAParams\n",
    "from pdfminer.pdfinterp import PDFResourceManager, PDFPageInterpreter\n",
    "import pandas as pd\n",
    "import numpy as np\n",
    "import matplotlib.pyplot as plt\n",
    "import matplotlib.image as mpimg\n",
    "from PIL import Image, ImageFont, ImageDraw\n",
    "import camelot\n",
    "\n",
    "filename='DUGJY'\n",
    "PDF = f'C:/Users/33669/PycharmProjects/OCR/trainer/ner_data/raw/{filename}.pdf'\n",
    "pd.set_option('display.max_colwidth', None)"
   ]
  },
  {
   "cell_type": "code",
   "execution_count": 2,
   "metadata": {},
   "outputs": [],
   "source": [
    "\n",
    "def make_df_image(table,\n",
    "                  max_cols=-1,\n",
    "                  max_rows=-1):\n",
    "    \"\"\"Return dataframe as image.\"\"\"\n",
    "    with tempfile.NamedTemporaryFile(suffix='.jpg',\n",
    "                                     delete=False) as tmp:\n",
    "        dfi.export(table, tmp.name, max_cols=max_cols, max_rows=max_rows)\n",
    "        image = mpimg.imread(tmp.name)\n",
    "        return image\n",
    "\n",
    "\n",
    "def make_lines_image(lines,\n",
    "                     mrgn=15,\n",
    "                     background=(255, 255, 255),\n",
    "                     text_color=(0, 0, 0),\n",
    "                     font_size=10):\n",
    "    \"\"\"Return raw text in lines as image.\"\"\"\n",
    "    lines = pd.Series(lines)\n",
    "    longest_line = lines[lines.str.len().idxmax()]\n",
    "    image = Image.new(\"RGBA\", (1, 1))\n",
    "    draw = ImageDraw.Draw(image)\n",
    "    monospace = ImageFont.truetype(r'С:\\Windows\\Fonts\\cour.ttf', font_size)\n",
    "    line_width, line_height = draw.textsize(longest_line, monospace)\n",
    "    img_width, img_height = (line_width + mrgn * 2,\n",
    "                             len(lines) * line_height + mrgn * 2)\n",
    "    image = Image.new(\"RGBA\", (img_width, img_height), background)\n",
    "    draw = ImageDraw.Draw(image)\n",
    "    x, y0 = (mrgn, mrgn)\n",
    "    for n, line in enumerate(lines):\n",
    "        y = y0 + n * line_height\n",
    "        draw.text((x, y), line, text_color, monospace)\n",
    "    return image\n"
   ]
  },
  {
   "cell_type": "code",
   "execution_count": 59,
   "metadata": {},
   "outputs": [],
   "source": [
    "def extract(extract_no):\n",
    "    pdfminer_string = StringIO()\n",
    "    pageno = 0\n",
    "    with open(PDF, \"rb\") as in_file:\n",
    "        parser = PDFParser(in_file)\n",
    "        doc = PDFDocument(parser)\n",
    "        rsrcmgr = PDFResourceManager()\n",
    "        device = TextConverter(rsrcmgr,\n",
    "                            pdfminer_string,\n",
    "                            laparams=LAParams())\n",
    "        interpreter = PDFPageInterpreter(rsrcmgr, device)\n",
    "        for page in PDFPage.create_pages(doc):\n",
    "            if pageno == extract_no:\n",
    "                interpreter.process_page(page)\n",
    "            pageno = pageno+1\n",
    "    pdfminer_lines = pdfminer_string.getvalue().splitlines()\n",
    "    pdfminer_lines = [ln for ln in pdfminer_lines if ln]\n",
    "    return pdfminer_lines\n",
    "\n",
    "def camel(extract_no):\n",
    "    tables, text = camelot.read_pdf(PDF, strip_text='\\n', pages=str(extract_no))\n",
    "    tables.export(r'C:\\Users\\33669\\PycharmProjects\\OCR\\outputs\\table.html', f='html', compress=True) # json, excel, html, markdown, sqlite\n",
    "    tablesfin = []\n",
    "    for table in text:\n",
    "        para = []\n",
    "        for row_index,row in enumerate(table):\n",
    "            for col_index,col in enumerate(row):\n",
    "                if row_index != 0:\n",
    "                    line = f'{table[0][col_index]} {col}'\n",
    "                    #print(line)\n",
    "                    para.append(line)\n",
    "        tabel = ' '.join(para)\n",
    "        tablesfin.append(tabel)\n",
    "    for table in tablesfin:\n",
    "        print(table)\n",
    "                       "
   ]
  },
  {
   "cell_type": "code",
   "execution_count": 60,
   "metadata": {},
   "outputs": [],
   "source": [
    "def extracted(pdfminer_lines):\n",
    "    # pd.Series(pdfminer_lines)\n",
    "    fig, ax = plt.subplots(figsize=(50,25))\n",
    "    title = 'pdfminer.six 20201018'\n",
    "    for i,img in enumerate(map(make_lines_image,\n",
    "                                [pdfminer_lines])):\n",
    "        ax.axis(\"off\")\n",
    "        ax.set_adjustable(\"box\")\n",
    "        ax.title.set_text(title)\n",
    "        ax.imshow(img)\n",
    "    return fig.tight_layout()"
   ]
  },
  {
   "cell_type": "code",
   "execution_count": 62,
   "metadata": {},
   "outputs": [
    {
     "name": "stdout",
     "output_type": "stream",
     "text": [
      "Sr.No  Designation  Complete Bunched Cables   Overall dia approx  Total mass approx Sr.No  Designation  Complete Bunched Cables (mm)  (kg/km.) Sr.No 1. Designation 3x50+16+35 Complete Bunched Cables 32  640 Sr.No 2. Designation 3x70+16+50 Complete Bunched Cables 34  890 Sr.No 3. Designation 3x95+16+70 Complete Bunched Cables 39  1180 Sr.No 4. Designation 3x120+16+95 Complete Bunched Cables 42  1430 Sr.No 5. Designation 3x150+16+120 Complete Bunched Cables 49  1905\n"
     ]
    }
   ],
   "source": [
    "pagen = 4\n",
    "#lines = extract(pagen)\n",
    "camel(pagen)\n",
    "#extracted(lines)"
   ]
  },
  {
   "cell_type": "code",
   "execution_count": null,
   "metadata": {},
   "outputs": [],
   "source": []
  }
 ],
 "metadata": {
  "interpreter": {
   "hash": "8514d1ffa18807466e1e1005c0ca77f2f21c1b6d7794e0ad757c55b4086bfbc8"
  },
  "kernelspec": {
   "display_name": "Python 3.9.1 64-bit ('classification': venv)",
   "language": "python",
   "name": "python3"
  },
  "language_info": {
   "codemirror_mode": {
    "name": "ipython",
    "version": 3
   },
   "file_extension": ".py",
   "mimetype": "text/x-python",
   "name": "python",
   "nbconvert_exporter": "python",
   "pygments_lexer": "ipython3",
   "version": "3.9.1"
  },
  "orig_nbformat": 4
 },
 "nbformat": 4,
 "nbformat_minor": 2
}
